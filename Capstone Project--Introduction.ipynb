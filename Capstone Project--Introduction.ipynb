{
 "cells": [
  {
   "cell_type": "markdown",
   "metadata": {},
   "source": [
    " <span style=\"color:blue; font-family:Times New Roman; font-size:2.8em;\">**Coursera Capstone Project**</span>\n",
    "\n",
    "\n",
    "   <span style=\"color:darkred; font-family:Times New Roman; font-size:1.5em;\">The Battle of Neighborhoods -Report (Week 1 )</span>\n"
   ]
  },
  {
   "cell_type": "markdown",
   "metadata": {},
   "source": [
    "\n",
    "\n",
    "<span style=\"color:darkred; font-family:Times New Roman; font-size:2em;\">**1.Introduction Section:**</span>\n",
    "\n",
    "<span style=\"color:darkblue; font-family:Times New Roman; font-size:1.5em;\">Discussion of the business problem and the audience who would be interested in this project.</span>\n",
    "\n"
   ]
  },
  {
   "cell_type": "markdown",
   "metadata": {},
   "source": [
    "<span style=\"color:blue; font-family:Times New Roman; font-size:1.5em;\">**1.1 Scenario and  Background**</span>\n",
    "\n",
    "I am a IT Professional residing in Leeds,uk. \n",
    "I currently live within walking distance to many ammenities and venues in the area, such as parks,international restaurants, cafes, gyms,food shops and entertainment.\n",
    "\n",
    "I have been offered a great opportunity to work in Manhattan, NY. Although, I am very excited about it, I am a bit stress toward the process to secure a comparable place to live in Manhattan.Therefore, I decided to apply the learned skills during the Coursera course to explore ways to make sure my decision is factual and rewarding.Of course, there are alternatives to achieve the answer using available Google and Social media tools, but it rewarding doing it myself with learned tools.\n"
   ]
  },
  {
   "cell_type": "markdown",
   "metadata": {},
   "source": [
    "In order to make a comparison and evaluation of the rental options in Manhattan NY, I must set some basis, therefore the apartment in Manhattan must meet the following demands:\n",
    "\n",
    "* apartment must be 2 or 3 bedrooms\n",
    "* desired location is near a metro station in the Manhattan area and within 1.0 mile (1.6 km) radius\n",
    "* price of rent not exceed $7,000 per month\n",
    "* top ammenities in the selected neighborhood shall be similar to current residence\n",
    "* desirable to have venues such as coffee shops, restaurants Asian Thai, wine stores, gym and food shops\n",
    "* as a reference, I have included a map of venues near current residence in leeds."
   ]
  },
  {
   "cell_type": "markdown",
   "metadata": {},
   "source": [
    "<span style=\"color:blue; font-family:Times New Roman; font-size:1.5em;\">**1.2 Business Problem:**</span>\n",
    "\n",
    "The challenge is to find a suitable apartment for rent in Manhattan NY that complies with the demands on location, price and venues. The data required to resolve this challenge is described in the following section 2, below.\n"
   ]
  },
  {
   "cell_type": "markdown",
   "metadata": {},
   "source": [
    "<span style=\"color:blue; font-family:Times New Roman; font-size:1.5em;\">**1.3 Interested Audience:**</span>\n",
    "\n",
    "I believe this is a relevant challenge with valid questions for anyone moving to other large city in US, EU or Asia. The same methodology can be applied in accordance to demands as applicable. This case is also applicable for anyone interested in exploring starting or locating a new business in any city. Lastly, it can also serve as a good practical exercise to develop Data Science skills."
   ]
  }
 ],
 "metadata": {
  "kernelspec": {
   "display_name": "Python 3",
   "language": "python",
   "name": "python3"
  },
  "language_info": {
   "codemirror_mode": {
    "name": "ipython",
    "version": 3
   },
   "file_extension": ".py",
   "mimetype": "text/x-python",
   "name": "python",
   "nbconvert_exporter": "python",
   "pygments_lexer": "ipython3",
   "version": "3.7.4"
  }
 },
 "nbformat": 4,
 "nbformat_minor": 4
}
