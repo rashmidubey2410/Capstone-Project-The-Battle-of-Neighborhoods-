{
 "cells": [
  {
   "cell_type": "markdown",
   "metadata": {},
   "source": [
    " <span style=\"color:blue; font-family:Times New Roman; font-size:2.8em;\">**Coursera Capstone Project**</span>\n",
    "\n",
    "\n",
    "   <span style=\"color:darkred; font-family:Times New Roman; font-size:1.5em;\">The Battle of Neighborhoods -Report (Week 1 )</span>\n"
   ]
  },
  {
   "cell_type": "markdown",
   "metadata": {},
   "source": [
    "<span style=\"color:darkred; font-family:Times New Roman; font-size:2em;\">**2. Data Section:**</span>\n",
    "\n",
    "<span style=\"color:darkblue; font-family:Times New Roman; font-size:1.5em;\">Description of the data and its sources that will be used to solve the problem.</span>"
   ]
  },
  {
   "cell_type": "markdown",
   "metadata": {},
   "source": [
    "\n",
    "<span style=\"color:blue; font-family:Times New Roman; font-size:1.5em;\">**Description of the Data:**</span>   \n",
    "\n",
    "* Use Foursquare and geopy data to map top 10 venues for all Manhattan neighborhoods and clustered in groups ( as per Course LAB)\n",
    "* Use foursquare and geopy data to map the location of subway metro stations , separately and on top of the above clustered map in order to be able to identify the venues and ammenities near each metro station, or explore each subway location separately\n",
    "* Use Foursquare and geopy data to map the location of rental places, in some form, linked to the subway locations.\n",
    "* create a map that depicts, for instance, the average rental price per square ft, around a radious of 1.0 mile (1.6 km) around each subway station - or a similar metrics. I will be able to quickly point to the popups to know the relative price per subway area.\n",
    "* Addresses from rental locations will be converted to geodata( lat, long) using Geopy-distance and Nominatim.\n",
    "* Data will be searched in open data sources if available, from real estate sites if open to reading, libraries or other government agencies such as Metro New York MTA, etc.    "
   ]
  },
  {
   "cell_type": "markdown",
   "metadata": {},
   "source": [
    "\n",
    "\n",
    "<span style=\"color:blue; font-family:Times New Roman; font-size:1.5em;\">**How data will be used to solve the following problem:**</span>   \n",
    "    \n",
    "* the cost of rent (per square ft) around a mile radius from each subway metro station.\n",
    "* what is the area of Manhattan with best rental pricing that meets criteria established?\n",
    "* distance from work place ( Park Ave and 53 rd St) and the tentative future home?\n",
    "* What are the venues of the two best places to live? How the prices compare?\n",
    "* How venues distribute among Manhattan neighborhoods and around metro stations?\n",
    "* Are there tradeoffs between size and price and location?\n",
    "* Any other interesting statistical data findings of the real estate and overall data."
   ]
  }
 ],
 "metadata": {
  "kernelspec": {
   "display_name": "Python 3",
   "language": "python",
   "name": "python3"
  },
  "language_info": {
   "codemirror_mode": {
    "name": "ipython",
    "version": 3
   },
   "file_extension": ".py",
   "mimetype": "text/x-python",
   "name": "python",
   "nbconvert_exporter": "python",
   "pygments_lexer": "ipython3",
   "version": "3.7.4"
  }
 },
 "nbformat": 4,
 "nbformat_minor": 4
}
